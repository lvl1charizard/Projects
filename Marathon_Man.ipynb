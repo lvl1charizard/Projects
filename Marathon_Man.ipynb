{
 "cells": [
  {
   "cell_type": "code",
   "execution_count": 4,
   "metadata": {},
   "outputs": [],
   "source": [
    "import numpy as np"
   ]
  },
  {
   "cell_type": "code",
   "execution_count": 5,
   "metadata": {},
   "outputs": [],
   "source": [
    "def input_atividades(lista_de_ativ):\n",
    "    atividades = input(f\"For this week choose 3 of the following activities: {lista_de_ativ}: \")\n",
    "    while atividades not in lista_de_ativ:\n",
    "        print(\"This option is not valid. Please, select again: \")\n",
    "        atividades = input(f\"Choose between {lista_de_ativ}: \")\n",
    "    return atividades"
   ]
  },
  {
   "cell_type": "code",
   "execution_count": null,
   "metadata": {},
   "outputs": [],
   "source": [
    "#Stage 0 - player chooses name and starts at a certain level in 4 categories (fatigue, hungry, stamina, overall fitness)\n",
    "name = input(\"Type in your name here: \")\n",
    "print (\"Hello \" + name + \"\"\" hope you are feeling speedy, because you have 8 weeks to prepare for a marathon! Are you ready? \\n\n",
    "Each week you will be able to choose 3 activities to prepare for the race.\n",
    "Choose wisely and you'll reach your goal! \\n\"\"\")\n",
    "\n",
    "#dictionaries\n",
    "atividades = {'eat junk food': np.array([5, 5, 1, -1]),\n",
    "'eat healthy food': np.array([-5, -5, 6, 3]),\n",
    "'work out': np.array([12, 16, 18, 6]),\n",
    "'run': np.array([20, 25, 35, 15]),\n",
    "'rest': np.array([-20, -15, 3, 3]),\n",
    "'ice': np.array([-10, -8, 5, 2]),\n",
    "'stretch': np.array([-5, -6, 5, 1])}\n",
    "\n",
    "lista_de_ativ = list(atividades.keys())\n",
    "\n",
    "#used array to create the baseline for the new player. each activity increases/decreases from that baseline\n",
    "player = np.array([100, 100, 100, 10])\n",
    "marathon_race = np.array([180, 200, 350, 100])\n",
    "\n",
    "#baseline scores\n",
    "fatigue = 100\n",
    "hungry = 100\n",
    "stamina = 100\n",
    "overall_fitness = 10\n",
    "\n",
    "#minimum score required at each category\n",
    "minimum_fatigue = 180\n",
    "minimum_hungry = 200\n",
    "minimum_stamina = 350\n",
    "minimum_overall_fitness = 100\n",
    "\n",
    "#while loop to countdown the amount of weeks the player has until the end of preparation\n",
    "deadline = 8\n",
    "total_time = 0\n",
    "week_progress = 1\n",
    "weeks_remaining = deadline - total_time\n",
    "\n",
    "#shift tab volta a indentação\n",
    "\n",
    "while total_time < deadline:\n",
    "    print(f\"You have {weeks_remaining} week(s) until the race! \\n\")\n",
    "    total_time += week_progress #cuidado, só uma vez!\n",
    "    weeks_remaining = deadline - total_time\n",
    "    for i in range(3):\n",
    "        atividade_input = input_atividades(lista_de_ativ)  #minha função está retornando uma das atividades\n",
    "        #atividade_input = input(f\"For this week choose 3 of the following activities: {', '.join(atividades.keys())}: \")\n",
    "        player = player + atividades[atividade_input]\n",
    "    \n",
    "if total_time == deadline:\n",
    "    #corrida_input = input(f\"You have reached the end of your 10 week preparation.\\n Do you think you did a good job? Let's find out:\")                    \n",
    "\n",
    "    if (player[0] in range(180, 300)) and (player[1] in range (200, 300)) and (player[2] > 350) and (player[3] > 100):\n",
    "        print(\"You did it! You have just finished your first marathon! Well done!\")\n",
    "    #elif (test[0] > 90) and (test[1] > 50) and (test[2] > 50) and (test[3] > 10):\n",
    "        #print(\"You've placed among the top 20\")\n",
    "    else:\n",
    "        print(\"\\n It seems like you've had too much pizza and not enough running...Or, maybe too much running and not enough pizza?\")\n"
   ]
  }
 ],
 "metadata": {
  "kernelspec": {
   "display_name": "Python 3",
   "language": "python",
   "name": "python3"
  }
 },
 "nbformat": 4,
 "nbformat_minor": 4
}
